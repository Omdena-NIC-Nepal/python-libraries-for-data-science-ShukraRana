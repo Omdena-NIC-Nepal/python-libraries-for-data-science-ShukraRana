{
 "cells": [
  {
   "cell_type": "markdown",
   "id": "7d30f3b2-a337-4a24-a4ed-b36b87af9d1c",
   "metadata": {},
   "source": [
    "# NumPy and Pandas Assignment\n",
    "Complete the following tasks by filling in the code where indicated.\n",
    "Ensure your notebook is well-documented with markdown cells explaining your code and results."
   ]
  },
  {
   "cell_type": "code",
   "execution_count": 3,
   "id": "98daa5c0-9d16-4114-9e1a-7cabbbc7c589",
   "metadata": {},
   "outputs": [],
   "source": [
    "## Import necessary ibraries"
   ]
  },
  {
   "cell_type": "code",
   "execution_count": 4,
   "id": "ad4bbd72-4364-4bc1-8a65-1cdfbffea5da",
   "metadata": {},
   "outputs": [],
   "source": [
    "# Import necessary libraries\n",
    "import numpy as np\n",
    "import pandas as pd"
   ]
  },
  {
   "cell_type": "markdown",
   "id": "48ce408d-d94a-4aed-830b-9a72885b9c8d",
   "metadata": {},
   "source": [
    "## Task 1: NumPy Basics\n"
   ]
  },
  {
   "cell_type": "markdown",
   "id": "631dcfb7-a15a-4ac8-915d-09f4ac43bdba",
   "metadata": {},
   "source": [
    "### 1.1. Array Creation"
   ]
  },
  {
   "cell_type": "code",
   "execution_count": 7,
   "id": "e6bdc052-0c4e-43d3-8adf-1d623a0cef2f",
   "metadata": {
    "scrolled": true
   },
   "outputs": [
    {
     "name": "stdout",
     "output_type": "stream",
     "text": [
      "1D Array: [1 2 3 4 5]\n",
      "2D Array:\n",
      " [[1 2 3]\n",
      " [4 5 6]]\n"
     ]
    }
   ],
   "source": [
    "# Create a 1D and a 2D NumPy array\n",
    "arr_1d = np.array([1, 2, 3, 4, 5])\n",
    "print(\"1D Array:\", arr_1d)\n",
    "\n",
    "arr_2d = np.array([[1, 2, 3], [4, 5, 6]])\n",
    "print(\"2D Array:\\n\", arr_2d)"
   ]
  },
  {
   "cell_type": "markdown",
   "id": "9058eb2f-090e-491c-8143-ee42a6784277",
   "metadata": {},
   "source": [
    "### 1.2. Array Operations"
   ]
  },
  {
   "cell_type": "code",
   "execution_count": 9,
   "id": "46760756-0eec-4d0e-9c2a-62d1ea11dc63",
   "metadata": {},
   "outputs": [
    {
     "name": "stdout",
     "output_type": "stream",
     "text": [
      "1D Array + 10: [11 12 13 14 15]\n",
      "2D Array * 2:\n",
      " [[ 2  4  6]\n",
      " [ 8 10 12]]\n"
     ]
    }
   ],
   "source": [
    "# Perform basic arithmetic operations on the arrays\n",
    "arr_1d_add = arr_1d + 10\n",
    "arr_2d_mult = arr_2d * 2\n",
    "print(\"1D Array + 10:\", arr_1d_add)\n",
    "print(\"2D Array * 2:\\n\", arr_2d_mult)"
   ]
  },
  {
   "cell_type": "markdown",
   "id": "07a77217-ecd6-4d9b-a856-1123c3d3ddb0",
   "metadata": {},
   "source": [
    "### 1.3. Indexing and Slicing"
   ]
  },
  {
   "cell_type": "code",
   "execution_count": 11,
   "id": "2649026b-0b24-4613-a2d0-38b4d305aacb",
   "metadata": {},
   "outputs": [
    {
     "name": "stdout",
     "output_type": "stream",
     "text": [
      "First element of 1D array: 1\n",
      "First row of 2D array:\n",
      " [1 2 3]\n"
     ]
    }
   ],
   "source": [
    "## Demonstrate indexing and slicing on the arrays\n",
    "print(\"First element of 1D array:\", arr_1d[0])\n",
    "print(\"First row of 2D array:\\n\", arr_2d[0, :])"
   ]
  },
  {
   "cell_type": "markdown",
   "id": "a997749e-e22b-4660-8d8e-46a8085bb5ce",
   "metadata": {},
   "source": [
    "### 1.4. Shape and reshape"
   ]
  },
  {
   "cell_type": "code",
   "execution_count": 13,
   "id": "e2bfe39d-f466-4ad6-9f35-1dbeefd369d4",
   "metadata": {},
   "outputs": [
    {
     "name": "stdout",
     "output_type": "stream",
     "text": [
      "Shape of 2D array: (2, 3)\n",
      "Reshaped 2D Array:\n",
      " [[1 2]\n",
      " [3 4]\n",
      " [5 6]]\n"
     ]
    }
   ],
   "source": [
    "# Show how to check the shape of an array and reshape it\n",
    "print(\"Shape of 2D array:\", arr_2d.shape)\n",
    "reshaped_arr = arr_2d.reshape((3, 2))\n",
    "print(\"Reshaped 2D Array:\\n\", reshaped_arr)"
   ]
  },
  {
   "cell_type": "markdown",
   "id": "e458bade-d6f8-4237-a032-1728c5b7f4ab",
   "metadata": {},
   "source": [
    "# Task 2: Pandas Basics"
   ]
  },
  {
   "cell_type": "markdown",
   "id": "3457bf79-0a77-4c0e-8a34-a4168f9fccfa",
   "metadata": {},
   "source": [
    "### 2.1. Series and DataFrame Creation"
   ]
  },
  {
   "cell_type": "code",
   "execution_count": 16,
   "id": "dbe0b38d-b8bb-418c-a14a-516b3610884b",
   "metadata": {},
   "outputs": [
    {
     "name": "stdout",
     "output_type": "stream",
     "text": [
      "Pandas Series:\n",
      " 0    1\n",
      "1    2\n",
      "2    3\n",
      "3    4\n",
      "4    5\n",
      "dtype: int64\n",
      "Pandas DataFrame:\n",
      "    A  B  C\n",
      "0  1  4  7\n",
      "1  2  5  8\n",
      "2  3  6  9\n"
     ]
    }
   ],
   "source": [
    "# Create a Pandas Series and DataFrame\n",
    "s = pd.Series([1, 2, 3, 4, 5])\n",
    "print(\"Pandas Series:\\n\", s)\n",
    "\n",
    "df = pd.DataFrame({\n",
    "    'A': [1, 2, 3],\n",
    "    'B': [4, 5, 6],\n",
    "    'C': [7, 8, 9]\n",
    "})\n",
    "print(\"Pandas DataFrame:\\n\", df)"
   ]
  },
  {
   "cell_type": "markdown",
   "id": "23b9394b-0da7-4efb-9d09-21f80c270c1d",
   "metadata": {},
   "source": [
    "### 2.2. Reading Data"
   ]
  },
  {
   "cell_type": "code",
   "execution_count": 18,
   "id": "0a479a31-a810-47b6-ad2e-da55612c3f25",
   "metadata": {},
   "outputs": [
    {
     "name": "stdout",
     "output_type": "stream",
     "text": [
      "Read DataFrame from CSV:\n",
      "    A  B  C\n",
      "0  1  4  7\n",
      "1  2  5  8\n",
      "2  3  6  9\n"
     ]
    }
   ],
   "source": [
    "# Read data from a CSV file (ensure you have a sample CSV file in your repository)\n",
    "df_read = pd.read_csv('sample_data.csv')\n",
    "print(\"Read DataFrame from CSV:\\n\", df_read)"
   ]
  },
  {
   "cell_type": "markdown",
   "id": "b44cc6c6-484c-431c-b040-970d1ffe7a47",
   "metadata": {},
   "source": [
    "### 2.3. Data Inspection"
   ]
  },
  {
   "cell_type": "code",
   "execution_count": 20,
   "id": "8d530203-2e79-430b-97c7-83b1d61a4928",
   "metadata": {},
   "outputs": [
    {
     "name": "stdout",
     "output_type": "stream",
     "text": [
      "Head of DataFrame:\n",
      "    A  B  C\n",
      "0  1  4  7\n",
      "1  2  5  8\n",
      "2  3  6  9\n",
      "<class 'pandas.core.frame.DataFrame'>\n",
      "RangeIndex: 3 entries, 0 to 2\n",
      "Data columns (total 3 columns):\n",
      " #   Column  Non-Null Count  Dtype\n",
      "---  ------  --------------  -----\n",
      " 0   A       3 non-null      int64\n",
      " 1   B       3 non-null      int64\n",
      " 2   C       3 non-null      int64\n",
      "dtypes: int64(3)\n",
      "memory usage: 204.0 bytes\n",
      "Info of DataFrame:\n",
      " None\n",
      "Description of DataFrame:\n",
      "          A    B    C\n",
      "count  3.0  3.0  3.0\n",
      "mean   2.0  5.0  8.0\n",
      "std    1.0  1.0  1.0\n",
      "min    1.0  4.0  7.0\n",
      "25%    1.5  4.5  7.5\n",
      "50%    2.0  5.0  8.0\n",
      "75%    2.5  5.5  8.5\n",
      "max    3.0  6.0  9.0\n"
     ]
    }
   ],
   "source": [
    "# Perform basic data inspection methods\n",
    "print(\"Head of DataFrame:\\n\", df.head())\n",
    "print(\"Info of DataFrame:\\n\", df.info())\n",
    "print(\"Description of DataFrame:\\n\", df.describe())"
   ]
  },
  {
   "cell_type": "markdown",
   "id": "6f1fc81b-71bc-4074-96cd-71e84e6ad213",
   "metadata": {},
   "source": [
    "### 2.4. Data Manipulation"
   ]
  },
  {
   "cell_type": "code",
   "execution_count": 22,
   "id": "b2f2b64d-4124-40a1-9d7d-5f29779f5f95",
   "metadata": {},
   "outputs": [
    {
     "name": "stdout",
     "output_type": "stream",
     "text": [
      "Column A:\n",
      " 0    1\n",
      "1    2\n",
      "2    3\n",
      "Name: A, dtype: int64\n",
      "Columns A and B:\n",
      "    A  B\n",
      "0  1  4\n",
      "1  2  5\n",
      "2  3  6\n",
      "Filtered DataFrame (A > 1):\n",
      "    A  B  C\n",
      "1  2  5  8\n",
      "2  3  6  9\n",
      "DataFrame with new column D:\n",
      "    A  B  C  D\n",
      "0  1  4  7  5\n",
      "1  2  5  8  7\n",
      "2  3  6  9  9\n",
      "DataFrame after dropping column D:\n",
      "    A  B  C\n",
      "0  1  4  7\n",
      "1  2  5  8\n",
      "2  3  6  9\n",
      "DataFrame with NaN:\n",
      "    A    B  C\n",
      "0  1  4.0  7\n",
      "1  2  NaN  8\n",
      "2  3  6.0  9\n",
      "DataFrame after dropping NaN:\n",
      "    A    B  C\n",
      "0  1  4.0  7\n",
      "2  3  6.0  9\n",
      "DataFrame after filling NaN with 0:\n",
      "    A    B  C\n",
      "0  1  4.0  7\n",
      "1  2  0.0  8\n",
      "2  3  6.0  9\n"
     ]
    }
   ],
   "source": [
    "# Selecting Data\n",
    "print(\"Column A:\\n\", df['A'])\n",
    "print(\"Columns A and B:\\n\", df[['A', 'B']])\n",
    "\n",
    "# Filtering Data\n",
    "filtered_df = df[df['A'] > 1]\n",
    "print(\"Filtered DataFrame (A > 1):\\n\", filtered_df)\n",
    "\n",
    "# Adding/Removing Columns\n",
    "df['D'] = df['A'] + df['B']\n",
    "print(\"DataFrame with new column D:\\n\", df)\n",
    "df.drop('D', axis=1, inplace=True)\n",
    "print(\"DataFrame after dropping column D:\\n\", df)\n",
    "\n",
    "# Handling Missing Data\n",
    "df_with_nan = df.copy()\n",
    "df_with_nan.loc[1, 'B'] = np.nan\n",
    "print(\"DataFrame with NaN:\\n\", df_with_nan)\n",
    "print(\"DataFrame after dropping NaN:\\n\", df_with_nan.dropna())\n",
    "print(\"DataFrame after filling NaN with 0:\\n\", df_with_nan.fillna(0))"
   ]
  },
  {
   "cell_type": "markdown",
   "id": "154a457b-4af6-4f74-a5ef-feaf094aeaa3",
   "metadata": {},
   "source": [
    "# Task 3: Data Analysis with Pandas"
   ]
  },
  {
   "cell_type": "code",
   "execution_count": 24,
   "id": "bc7eecad-ad89-4254-b15d-f33ca49b7827",
   "metadata": {},
   "outputs": [
    {
     "name": "stdout",
     "output_type": "stream",
     "text": [
      "Mean of column A: 2.0\n",
      "Sum of column A: 6\n",
      "Merged DataFrame:\n",
      "   key  value_x  value_y\n",
      "0   A        1        4\n",
      "1   B        2        5\n",
      "Pivot Table:\n",
      " B    4    5    6\n",
      "A               \n",
      "1  7.0  NaN  NaN\n",
      "2  NaN  8.0  NaN\n",
      "3  NaN  NaN  9.0\n",
      "DataFrame with Date Index:\n",
      "             A  B  C\n",
      "date               \n",
      "2020-01-01  1  4  7\n",
      "2020-01-02  2  5  8\n",
      "2020-01-03  3  6  9\n",
      "Resampled DataFrame:\n",
      "               A    B    C\n",
      "date                     \n",
      "2020-01-31  2.0  5.0  8.0\n"
     ]
    }
   ],
   "source": [
    "# Aggregations\n",
    "print(\"Mean of column A:\", df['A'].mean())\n",
    "print(\"Sum of column A:\", df['A'].sum())\n",
    "\n",
    "# Merging and Joining\n",
    "df1 = pd.DataFrame({'key': ['A', 'B', 'C'], 'value': [1, 2, 3]})\n",
    "df2 = pd.DataFrame({'key': ['A', 'B', 'D'], 'value': [4, 5, 6]})\n",
    "merged_df = pd.merge(df1, df2, on='key', how='inner')\n",
    "print(\"Merged DataFrame:\\n\", merged_df)\n",
    "\n",
    "# Pivot Tables\n",
    "pivot_df = df.pivot_table(values='C', index='A', columns='B', aggfunc='mean')\n",
    "print(\"Pivot Table:\\n\", pivot_df)\n",
    "\n",
    "# Time Series Analysis\n",
    "df['date'] = pd.date_range(start='1/1/2020', periods=len(df), freq='D')\n",
    "df.set_index('date', inplace=True)\n",
    "print(\"DataFrame with Date Index:\\n\", df)\n",
    "resampled_df = df.resample('M').mean()\n",
    "print(\"Resampled DataFrame:\\n\", resampled_df)"
   ]
  }
 ],
 "metadata": {
  "kernelspec": {
   "display_name": "Python 3 (ipykernel)",
   "language": "python",
   "name": "python3"
  },
  "language_info": {
   "codemirror_mode": {
    "name": "ipython",
    "version": 3
   },
   "file_extension": ".py",
   "mimetype": "text/x-python",
   "name": "python",
   "nbconvert_exporter": "python",
   "pygments_lexer": "ipython3",
   "version": "3.11.7"
  }
 },
 "nbformat": 4,
 "nbformat_minor": 5
}
