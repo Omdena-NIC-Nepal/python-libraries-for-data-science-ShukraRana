{
 "cells": [
  {
   "cell_type": "markdown",
   "id": "34154f08-a171-4e2f-b220-6e1650e1c8f5",
   "metadata": {},
   "source": [
    "# NumPy and Pandas Assignment\n",
    "# Complete the following tasks by filling in the code where indicated.\n",
    "# Ensure your notebook is well-documented with markdown cells explaining your code and results."
   ]
  },
  {
   "cell_type": "code",
   "execution_count": 3,
   "id": "c2eb869f-c408-4f53-85af-0e36fc638bcf",
   "metadata": {},
   "outputs": [],
   "source": [
    "import numpy as np\n",
    "import pandas as pd"
   ]
  },
  {
   "cell_type": "markdown",
   "id": "b0baaab7-d52e-4d84-9d1e-eddb2b178666",
   "metadata": {},
   "source": [
    "# 1. Array Creation\n",
    "# Create a 1D and a 2D NumPy array"
   ]
  },
  {
   "cell_type": "code",
   "execution_count": 14,
   "id": "c60e4e8b-c093-42b7-ac76-5c33c46d8575",
   "metadata": {},
   "outputs": [
    {
     "name": "stdout",
     "output_type": "stream",
     "text": [
      "1D Array: [1 2 3 4 5]\n"
     ]
    }
   ],
   "source": [
    "arr_1d = np.array([1, 2, 3, 4, 5])\n",
    "print(\"1D Array:\", arr_1d)"
   ]
  },
  {
   "cell_type": "code",
   "execution_count": 7,
   "id": "0c3fbd8d-a2f7-4d60-a308-59273e4bc4ce",
   "metadata": {},
   "outputs": [
    {
     "name": "stdout",
     "output_type": "stream",
     "text": [
      "2D Array:\n",
      " [[1 2 3]\n",
      " [4 5 6]]\n"
     ]
    }
   ],
   "source": [
    "arr_2d = np.array([[1, 2, 3], [4, 5, 6]])\n",
    "print(\"2D Array:\\n\", arr_2d)"
   ]
  },
  {
   "cell_type": "markdown",
   "id": "e728ba2a-2562-42c9-a981-ce91d6da88e3",
   "metadata": {},
   "source": [
    "# 2. Array Operations\n",
    "# Perform basic arithmetic operations on the arrays"
   ]
  },
  {
   "cell_type": "code",
   "execution_count": 11,
   "id": "5793aab6-5aac-417f-ac0a-a66e90d6e241",
   "metadata": {},
   "outputs": [
    {
     "name": "stdout",
     "output_type": "stream",
     "text": [
      "1D Array + 10: [11 12 13 14 15]\n",
      "2D Array * 2:\n",
      " [[ 2  4  6]\n",
      " [ 8 10 12]]\n"
     ]
    }
   ],
   "source": [
    "arr_1d_add = arr_1d + 10\n",
    "arr_2d_mult = arr_2d * 2\n",
    "print(\"1D Array + 10:\", arr_1d_add)\n",
    "print(\"2D Array * 2:\\n\", arr_2d_mult)"
   ]
  },
  {
   "cell_type": "markdown",
   "id": "7f502e62-8d14-4b6f-9996-1c266c92b744",
   "metadata": {},
   "source": [
    "# 3. Indexing and Slicing\n",
    "# Demonstrate indexing and slicing on the arrays"
   ]
  },
  {
   "cell_type": "code",
   "execution_count": 18,
   "id": "7e22a75c-a0a5-4750-adb3-27c2d98870b4",
   "metadata": {},
   "outputs": [
    {
     "name": "stdout",
     "output_type": "stream",
     "text": [
      "First element of 1D array: 1\n",
      "First row of 2D array:\n",
      " [1 2 3]\n"
     ]
    }
   ],
   "source": [
    "print(\"First element of 1D array:\", arr_1d[0])\n",
    "print(\"First row of 2D array:\\n\", arr_2d[0, :])"
   ]
  },
  {
   "cell_type": "markdown",
   "id": "acf98fdb-dab9-4c9c-a2a1-4e5c6d25aeb0",
   "metadata": {},
   "source": [
    "# 4. Shape and Reshape\n",
    "# Show how to check the shape of an array and reshape it"
   ]
  },
  {
   "cell_type": "code",
   "execution_count": 21,
   "id": "e40b498c-bb8a-4050-b15f-87f1a2b162a8",
   "metadata": {},
   "outputs": [
    {
     "name": "stdout",
     "output_type": "stream",
     "text": [
      "Shape of 2D array: (2, 3)\n",
      "Reshaped 2D Array:\n",
      " [[1 2]\n",
      " [3 4]\n",
      " [5 6]]\n"
     ]
    }
   ],
   "source": [
    "print(\"Shape of 2D array:\", arr_2d.shape)\n",
    "reshaped_arr = arr_2d.reshape((3, 2))\n",
    "print(\"Reshaped 2D Array:\\n\", reshaped_arr)"
   ]
  },
  {
   "cell_type": "markdown",
   "id": "b5ab10a3-25d4-4014-803e-faac43f0e298",
   "metadata": {},
   "source": [
    "# Task 2: Pandas Basics\n",
    "\n",
    "# 1. Series and DataFrame Creation\n",
    "# Create a Pandas Series and DataFrame"
   ]
  },
  {
   "cell_type": "code",
   "execution_count": 26,
   "id": "395c03de-325b-4f56-ae83-2e7ad2912fb2",
   "metadata": {},
   "outputs": [
    {
     "name": "stdout",
     "output_type": "stream",
     "text": [
      "Pandas Series:\n",
      " 0    1\n",
      "1    2\n",
      "2    3\n",
      "3    4\n",
      "4    5\n",
      "dtype: int64\n",
      "Pandas DataFrame:\n",
      "    A  B  C\n",
      "0  1  4  7\n",
      "1  2  5  8\n",
      "2  3  6  9\n"
     ]
    }
   ],
   "source": [
    "s = pd.Series([1, 2, 3, 4, 5])\n",
    "print(\"Pandas Series:\\n\", s)\n",
    "df = pd.DataFrame({\n",
    "    'A': [1, 2, 3],\n",
    "    'B': [4, 5, 6],\n",
    "    'C': [7, 8, 9]\n",
    "})\n",
    "print(\"Pandas DataFrame:\\n\", df)"
   ]
  },
  {
   "cell_type": "markdown",
   "id": "29d70782-6138-4dcd-b0d7-d8e66b25241d",
   "metadata": {},
   "source": [
    "# 2. Reading Data\n",
    "# Read data from a CSV file (ensure you have a sample CSV file in your repository)"
   ]
  },
  {
   "cell_type": "code",
   "execution_count": 28,
   "id": "bea62a82-03cc-4ef4-b0b9-cb0a01208c6d",
   "metadata": {},
   "outputs": [
    {
     "name": "stdout",
     "output_type": "stream",
     "text": [
      "Read DataFrame from CSV:\n",
      "    A  B  C\n",
      "0  1  4  7\n",
      "1  2  5  8\n",
      "2  3  6  9\n"
     ]
    }
   ],
   "source": [
    "df_read = pd.read_csv('sample_data.csv')\n",
    "print(\"Read DataFrame from CSV:\\n\", df_read)"
   ]
  },
  {
   "cell_type": "code",
   "execution_count": null,
   "id": "8ceb49ce-19fe-4c6a-acd2-cc46d6a6f447",
   "metadata": {},
   "outputs": [],
   "source": [
    "# 3. Data Inspection\n",
    "# Perform basic data inspection methods"
   ]
  },
  {
   "cell_type": "code",
   "execution_count": null,
   "id": "21d83c94-61b8-4d19-9508-3eb69fc7b64c",
   "metadata": {},
   "outputs": [],
   "source": [
    "print(\"Head of DataFrame:\\n\", df.head())\n",
    "print(\"Info of DataFrame:\\n\", df.info())\n",
    "print(\"Description of DataFrame:\\n\", df.describe())"
   ]
  },
  {
   "cell_type": "markdown",
   "id": "a62c5a60-7945-457b-8fac-846f307ba660",
   "metadata": {},
   "source": [
    "# 4. Data Manipulation\n",
    "# Selecting Data"
   ]
  },
  {
   "cell_type": "code",
   "execution_count": 32,
   "id": "0138a41b-d5ee-4e29-970b-3182d3940112",
   "metadata": {},
   "outputs": [
    {
     "name": "stdout",
     "output_type": "stream",
     "text": [
      "Column A:\n",
      " 0    1\n",
      "1    2\n",
      "2    3\n",
      "Name: A, dtype: int64\n",
      "Columns A and B:\n",
      "    A  B\n",
      "0  1  4\n",
      "1  2  5\n",
      "2  3  6\n"
     ]
    }
   ],
   "source": [
    "print(\"Column A:\\n\", df['A'])\n",
    "print(\"Columns A and B:\\n\", df[['A', 'B']])"
   ]
  },
  {
   "cell_type": "markdown",
   "id": "c7cb32c5-b5ef-4882-bdc1-4bb978b0e5d6",
   "metadata": {},
   "source": [
    "# Filtering Data"
   ]
  },
  {
   "cell_type": "code",
   "execution_count": 35,
   "id": "13284aba-5d0c-4fd1-894a-4fa239142337",
   "metadata": {},
   "outputs": [
    {
     "name": "stdout",
     "output_type": "stream",
     "text": [
      "Filtered DataFrame (A > 1):\n",
      "    A  B  C\n",
      "1  2  5  8\n",
      "2  3  6  9\n"
     ]
    }
   ],
   "source": [
    "filtered_df = df[df['A'] > 1]\n",
    "print(\"Filtered DataFrame (A > 1):\\n\", filtered_df)"
   ]
  },
  {
   "cell_type": "markdown",
   "id": "c5a0935f-e2f3-4294-b6b8-4e23bf359555",
   "metadata": {},
   "source": [
    "# Adding/Removing Columns"
   ]
  },
  {
   "cell_type": "code",
   "execution_count": 37,
   "id": "65768140-3384-481b-9a19-6bc6643a019c",
   "metadata": {},
   "outputs": [
    {
     "name": "stdout",
     "output_type": "stream",
     "text": [
      "DataFrame with new column D:\n",
      "    A  B  C  D\n",
      "0  1  4  7  5\n",
      "1  2  5  8  7\n",
      "2  3  6  9  9\n",
      "DataFrame after dropping column D:\n",
      "    A  B  C\n",
      "0  1  4  7\n",
      "1  2  5  8\n",
      "2  3  6  9\n"
     ]
    }
   ],
   "source": [
    "df['D'] = df['A'] + df['B']\n",
    "print(\"DataFrame with new column D:\\n\", df)\n",
    "df.drop('D', axis=1, inplace=True)\n",
    "print(\"DataFrame after dropping column D:\\n\", df)"
   ]
  },
  {
   "cell_type": "markdown",
   "id": "1ef9e27f-d110-45e4-b056-8f7e72d36520",
   "metadata": {},
   "source": [
    "# Handling Missing Data"
   ]
  },
  {
   "cell_type": "code",
   "execution_count": 39,
   "id": "8d98487c-1f55-4f2e-8b6c-1f6ebbdd9727",
   "metadata": {},
   "outputs": [
    {
     "name": "stdout",
     "output_type": "stream",
     "text": [
      "DataFrame with NaN:\n",
      "    A    B  C\n",
      "0  1  4.0  7\n",
      "1  2  NaN  8\n",
      "2  3  6.0  9\n",
      "DataFrame after dropping NaN:\n",
      "    A    B  C\n",
      "0  1  4.0  7\n",
      "2  3  6.0  9\n",
      "DataFrame after filling NaN with 0:\n",
      "    A    B  C\n",
      "0  1  4.0  7\n",
      "1  2  0.0  8\n",
      "2  3  6.0  9\n"
     ]
    }
   ],
   "source": [
    "df_with_nan = df.copy()\n",
    "df_with_nan.loc[1, 'B'] = np.nan\n",
    "print(\"DataFrame with NaN:\\n\", df_with_nan)\n",
    "print(\"DataFrame after dropping NaN:\\n\", df_with_nan.dropna())\n",
    "print(\"DataFrame after filling NaN with 0:\\n\", df_with_nan.fillna(0))"
   ]
  },
  {
   "cell_type": "markdown",
   "id": "42523518-eaf1-4f9f-a939-fddf7e23af8e",
   "metadata": {},
   "source": [
    "# Task 3: Data Analysis with Pandas\n",
    "\n",
    "# Aggregations"
   ]
  },
  {
   "cell_type": "code",
   "execution_count": 44,
   "id": "bb331506-e5fa-406d-8694-15647e1960e6",
   "metadata": {},
   "outputs": [
    {
     "name": "stdout",
     "output_type": "stream",
     "text": [
      "Mean of column A: 2.0\n",
      "Sum of column A: 6\n"
     ]
    }
   ],
   "source": [
    "print(\"Mean of column A:\", df['A'].mean())\n",
    "print(\"Sum of column A:\", df['A'].sum())"
   ]
  },
  {
   "cell_type": "markdown",
   "id": "980ea543-6714-4d17-9ac7-910e6d1e46e1",
   "metadata": {},
   "source": [
    "# Merging and Joining"
   ]
  },
  {
   "cell_type": "code",
   "execution_count": 47,
   "id": "02e07134-6c4a-41c9-b917-75a17afb1c7e",
   "metadata": {},
   "outputs": [
    {
     "name": "stdout",
     "output_type": "stream",
     "text": [
      "Merged DataFrame:\n",
      "   key  value_x  value_y\n",
      "0   A        1        4\n",
      "1   B        2        5\n"
     ]
    }
   ],
   "source": [
    "df1 = pd.DataFrame({'key': ['A', 'B', 'C'], 'value': [1, 2, 3]})\n",
    "df2 = pd.DataFrame({'key': ['A', 'B', 'D'], 'value': [4, 5, 6]})\n",
    "merged_df = pd.merge(df1, df2, on='key', how='inner')\n",
    "print(\"Merged DataFrame:\\n\", merged_df)"
   ]
  },
  {
   "cell_type": "markdown",
   "id": "26ffff59-35ad-461a-916c-ef7c8573112b",
   "metadata": {},
   "source": [
    "# Pivot Tables"
   ]
  },
  {
   "cell_type": "code",
   "execution_count": 50,
   "id": "d14b86b5-54ed-4c23-b4a7-22941381d84a",
   "metadata": {},
   "outputs": [
    {
     "name": "stdout",
     "output_type": "stream",
     "text": [
      "Pivot Table:\n",
      " B    4    5    6\n",
      "A               \n",
      "1  7.0  NaN  NaN\n",
      "2  NaN  8.0  NaN\n",
      "3  NaN  NaN  9.0\n"
     ]
    }
   ],
   "source": [
    "pivot_df = df.pivot_table(values='C', index='A', columns='B', aggfunc='mean')\n",
    "print(\"Pivot Table:\\n\", pivot_df)"
   ]
  },
  {
   "cell_type": "markdown",
   "id": "eb37d8e6-c72c-4b69-81af-bebeecc3b300",
   "metadata": {},
   "source": [
    "# Time Series Analysis"
   ]
  },
  {
   "cell_type": "code",
   "execution_count": 53,
   "id": "7cb25b48-c241-4978-8e39-0ee28247682f",
   "metadata": {},
   "outputs": [
    {
     "name": "stdout",
     "output_type": "stream",
     "text": [
      "DataFrame with Date Index:\n",
      "             A  B  C\n",
      "date               \n",
      "2020-01-01  1  4  7\n",
      "2020-01-02  2  5  8\n",
      "2020-01-03  3  6  9\n",
      "Resampled DataFrame:\n",
      "               A    B    C\n",
      "date                     \n",
      "2020-01-31  2.0  5.0  8.0\n"
     ]
    }
   ],
   "source": [
    "df['date'] = pd.date_range(start='1/1/2020', periods=len(df), freq='D')\n",
    "df.set_index('date', inplace=True)\n",
    "print(\"DataFrame with Date Index:\\n\", df)\n",
    "resampled_df = df.resample('M').mean()\n",
    "print(\"Resampled DataFrame:\\n\", resampled_df)"
   ]
  }
 ],
 "metadata": {
  "kernelspec": {
   "display_name": "Python 3 (ipykernel)",
   "language": "python",
   "name": "python3"
  },
  "language_info": {
   "codemirror_mode": {
    "name": "ipython",
    "version": 3
   },
   "file_extension": ".py",
   "mimetype": "text/x-python",
   "name": "python",
   "nbconvert_exporter": "python",
   "pygments_lexer": "ipython3",
   "version": "3.11.7"
  }
 },
 "nbformat": 4,
 "nbformat_minor": 5
}
