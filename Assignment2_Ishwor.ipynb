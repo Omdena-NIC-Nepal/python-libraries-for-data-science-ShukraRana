{
 "cells": [
  {
   "cell_type": "markdown",
   "id": "dda9bc2c",
   "metadata": {},
   "source": [
    "# Numpy and Pandas Assignment "
   ]
  },
  {
   "cell_type": "markdown",
   "id": "1c1abea5",
   "metadata": {},
   "source": [
    "#### Submitted by Ishwor Baral"
   ]
  },
  {
   "cell_type": "code",
   "execution_count": 2,
   "id": "957b2b77",
   "metadata": {},
   "outputs": [],
   "source": [
    "import numpy as np\n",
    "import pandas as pd"
   ]
  },
  {
   "cell_type": "markdown",
   "id": "efa9724a",
   "metadata": {},
   "source": [
    "### 1. Numpy Basics"
   ]
  },
  {
   "cell_type": "code",
   "execution_count": 6,
   "id": "822075d9",
   "metadata": {},
   "outputs": [
    {
     "name": "stdout",
     "output_type": "stream",
     "text": [
      "1D Array:\n",
      " [1 2 3]\n"
     ]
    }
   ],
   "source": [
    "# create 1d Array\n",
    "arr_1d = np.array([1,2,3])\n",
    "print(\"1D Array:\\n\", arr_1d)"
   ]
  },
  {
   "cell_type": "code",
   "execution_count": 4,
   "id": "707d8fbd",
   "metadata": {},
   "outputs": [
    {
     "name": "stdout",
     "output_type": "stream",
     "text": [
      "2D Array:\n",
      " [[1 2 3]\n",
      " [4 5 6]]\n"
     ]
    }
   ],
   "source": [
    "# Create 2d Array\n",
    "arr_2d = np.array([[1, 2, 3], [4, 5, 6]])\n",
    "print(\"2D Array:\\n\", arr_2d)"
   ]
  },
  {
   "cell_type": "markdown",
   "id": "a1faa9a9",
   "metadata": {},
   "source": [
    "### 2.Array Operations"
   ]
  },
  {
   "cell_type": "code",
   "execution_count": 7,
   "id": "ce10c9ae",
   "metadata": {},
   "outputs": [
    {
     "name": "stdout",
     "output_type": "stream",
     "text": [
      "1D Array + 10: [11 12 13]\n",
      "2D Array * 2:\n",
      " [[ 2  4  6]\n",
      " [ 8 10 12]]\n"
     ]
    }
   ],
   "source": [
    "# Perform basic arithmetic operations on the arrays\n",
    "arr_1d_add = arr_1d + 10\n",
    "arr_2d_mult = arr_2d * 2\n",
    "print(\"1D Array + 10:\", arr_1d_add)\n",
    "print(\"2D Array * 2:\\n\", arr_2d_mult)"
   ]
  },
  {
   "cell_type": "markdown",
   "id": "5e48aaa3",
   "metadata": {},
   "source": [
    "### 3. Indexing and Slicing"
   ]
  },
  {
   "cell_type": "code",
   "execution_count": 8,
   "id": "6369ab32",
   "metadata": {},
   "outputs": [
    {
     "name": "stdout",
     "output_type": "stream",
     "text": [
      "First element of 1D array: 1\n",
      "First row of 2D array:\n",
      " [1 2 3]\n"
     ]
    }
   ],
   "source": [
    "# Demonstrate indexing and slicing on the arrays\n",
    "print(\"First element of 1D array:\", arr_1d[0])\n",
    "print(\"First row of 2D array:\\n\", arr_2d[0, :])"
   ]
  },
  {
   "cell_type": "markdown",
   "id": "285f72c2",
   "metadata": {},
   "source": [
    "### 4. Shape and Reshape"
   ]
  },
  {
   "cell_type": "code",
   "execution_count": 9,
   "id": "8f174ac8",
   "metadata": {},
   "outputs": [
    {
     "name": "stdout",
     "output_type": "stream",
     "text": [
      "Shape of 2D array: (2, 3)\n",
      "Reshaped 2D Array:\n",
      " [[1 2]\n",
      " [3 4]\n",
      " [5 6]]\n"
     ]
    }
   ],
   "source": [
    "# Show how to check the shape of an array and reshape it\n",
    "print(\"Shape of 2D array:\", arr_2d.shape)\n",
    "reshaped_arr = arr_2d.reshape((3, 2))\n",
    "print(\"Reshaped 2D Array:\\n\", reshaped_arr)"
   ]
  }
 ],
 "metadata": {
  "kernelspec": {
   "display_name": "Python 3 (ipykernel)",
   "language": "python",
   "name": "python3"
  },
  "language_info": {
   "codemirror_mode": {
    "name": "ipython",
    "version": 3
   },
   "file_extension": ".py",
   "mimetype": "text/x-python",
   "name": "python",
   "nbconvert_exporter": "python",
   "pygments_lexer": "ipython3",
   "version": "3.12.4"
  }
 },
 "nbformat": 4,
 "nbformat_minor": 5
}
