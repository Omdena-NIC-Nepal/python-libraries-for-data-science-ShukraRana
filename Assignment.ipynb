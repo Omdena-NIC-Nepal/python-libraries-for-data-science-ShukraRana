{
 "cells": [
  {
   "cell_type": "markdown",
   "metadata": {},
   "source": [
    "### Numpy assignment"
   ]
  },
  {
   "cell_type": "code",
   "execution_count": 134,
   "metadata": {},
   "outputs": [],
   "source": [
    "import numpy as np\n",
    "import pandas as pd"
   ]
  },
  {
   "cell_type": "markdown",
   "metadata": {},
   "source": []
  },
  {
   "cell_type": "markdown",
   "metadata": {},
   "source": [
    "# Task 1: Numpy basics"
   ]
  },
  {
   "cell_type": "markdown",
   "metadata": {},
   "source": [
    "1. Array creation"
   ]
  },
  {
   "cell_type": "code",
   "execution_count": 135,
   "metadata": {},
   "outputs": [
    {
     "name": "stdout",
     "output_type": "stream",
     "text": [
      "1D Array: [4 5 6 7 8]\n"
     ]
    }
   ],
   "source": [
    "# Create a 1D and a 2D NumPy array\n",
    "arr_1d = np.array([4, 5, 6, 7, 8])\n",
    "print(\"1D Array:\", arr_1d)"
   ]
  },
  {
   "cell_type": "code",
   "execution_count": 136,
   "metadata": {},
   "outputs": [
    {
     "name": "stdout",
     "output_type": "stream",
     "text": [
      "2D Array:\n",
      " [[10 20 30]\n",
      " [40 50 60]]\n"
     ]
    }
   ],
   "source": [
    "arr_2d = np.array([[10, 20, 30], [40, 50, 60]])\n",
    "print(\"2D Array:\\n\", arr_2d)"
   ]
  },
  {
   "cell_type": "markdown",
   "metadata": {},
   "source": [
    "2. Array operations"
   ]
  },
  {
   "cell_type": "code",
   "execution_count": 137,
   "metadata": {},
   "outputs": [
    {
     "name": "stdout",
     "output_type": "stream",
     "text": [
      "1D Array + 5: [ 9 10 11 12 13]\n",
      "2D Array * 3:\n",
      " [[ 30  60  90]\n",
      " [120 150 180]]\n"
     ]
    }
   ],
   "source": [
    "# Perform basic arithmetic operations on the arrays\n",
    "arr_1d_add = arr_1d + 5\n",
    "arr_2d_mult = arr_2d * 3\n",
    "print(\"1D Array + 5:\", arr_1d_add)\n",
    "print(\"2D Array * 3:\\n\", arr_2d_mult)"
   ]
  },
  {
   "cell_type": "markdown",
   "metadata": {},
   "source": [
    "3. Indexing and Slicing"
   ]
  },
  {
   "cell_type": "code",
   "execution_count": 138,
   "metadata": {},
   "outputs": [
    {
     "name": "stdout",
     "output_type": "stream",
     "text": [
      "First element of 1D array: 4\n",
      "First row of 2D array:\n",
      " [10 20 30]\n"
     ]
    }
   ],
   "source": [
    "# Demonstrate indexing and slicing on the arrays\n",
    "print(\"First element of 1D array:\", arr_1d[0])\n",
    "print(\"First row of 2D array:\\n\", arr_2d[0, :])"
   ]
  },
  {
   "cell_type": "markdown",
   "metadata": {},
   "source": [
    "4. Shape and Reshape"
   ]
  },
  {
   "cell_type": "code",
   "execution_count": 139,
   "metadata": {},
   "outputs": [
    {
     "name": "stdout",
     "output_type": "stream",
     "text": [
      "Shape of 2D array: (2, 3)\n",
      "Reshaped 2D Array:\n",
      " [[10]\n",
      " [20]\n",
      " [30]\n",
      " [40]\n",
      " [50]\n",
      " [60]]\n"
     ]
    }
   ],
   "source": [
    "# Show how to check the shape of an array and reshape it\n",
    "print(\"Shape of 2D array:\", arr_2d.shape)\n",
    "reshaped_arr = arr_2d.reshape((6, 1))\n",
    "print(\"Reshaped 2D Array:\\n\", reshaped_arr)"
   ]
  },
  {
   "cell_type": "markdown",
   "metadata": {},
   "source": [
    "# Task 2: Pandas Basics"
   ]
  },
  {
   "cell_type": "markdown",
   "metadata": {},
   "source": [
    "1. Series and DataFrame Creation"
   ]
  },
  {
   "cell_type": "code",
   "execution_count": 140,
   "metadata": {},
   "outputs": [
    {
     "name": "stdout",
     "output_type": "stream",
     "text": [
      "Pandas Series:\n",
      " 0     6\n",
      "1     7\n",
      "2     8\n",
      "3     9\n",
      "4    10\n",
      "dtype: int64\n",
      "Pandas DataFrame:\n",
      "     A   B   C\n",
      "0  11  14  17\n",
      "1  12  15  18\n",
      "2  10  16  19\n"
     ]
    }
   ],
   "source": [
    "# Create a Pandas Series and DataFrame\n",
    "s = pd.Series([6, 7, 8, 9, 10])\n",
    "print(\"Pandas Series:\\n\", s)\n",
    "\n",
    "df = pd.DataFrame({\n",
    "    'A': [11, 12, 10],\n",
    "    'B': [14, 15, 16],\n",
    "    'C': [17, 18, 19]\n",
    "})\n",
    "print(\"Pandas DataFrame:\\n\", df)"
   ]
  },
  {
   "cell_type": "markdown",
   "metadata": {},
   "source": [
    "2. Reading Data"
   ]
  },
  {
   "cell_type": "code",
   "execution_count": 141,
   "metadata": {},
   "outputs": [
    {
     "name": "stdout",
     "output_type": "stream",
     "text": [
      "Read DataFrame from CSV:\n",
      "     A   B   C\n",
      "0  11  14  17\n",
      "1  12  15  18\n",
      "2  13  16  19\n"
     ]
    }
   ],
   "source": [
    "# Read data from a CSV file (ensure you have a sample CSV file in your repository)\n",
    "df_read = pd.read_csv('sample_data.csv')\n",
    "print(\"Read DataFrame from CSV:\\n\", df_read)"
   ]
  },
  {
   "cell_type": "markdown",
   "metadata": {},
   "source": [
    "3. Data Inspection\n"
   ]
  },
  {
   "cell_type": "code",
   "execution_count": 142,
   "metadata": {},
   "outputs": [
    {
     "name": "stdout",
     "output_type": "stream",
     "text": [
      "Head of DataFrame:\n",
      "     A   B   C\n",
      "0  11  14  17\n",
      "1  12  15  18\n",
      "2  10  16  19\n",
      "<class 'pandas.core.frame.DataFrame'>\n",
      "RangeIndex: 3 entries, 0 to 2\n",
      "Data columns (total 3 columns):\n",
      " #   Column  Non-Null Count  Dtype\n",
      "---  ------  --------------  -----\n",
      " 0   A       3 non-null      int64\n",
      " 1   B       3 non-null      int64\n",
      " 2   C       3 non-null      int64\n",
      "dtypes: int64(3)\n",
      "memory usage: 204.0 bytes\n",
      "Info of DataFrame:\n",
      " None\n",
      "Description of DataFrame:\n",
      "           A     B     C\n",
      "count   3.0   3.0   3.0\n",
      "mean   11.0  15.0  18.0\n",
      "std     1.0   1.0   1.0\n",
      "min    10.0  14.0  17.0\n",
      "25%    10.5  14.5  17.5\n",
      "50%    11.0  15.0  18.0\n",
      "75%    11.5  15.5  18.5\n",
      "max    12.0  16.0  19.0\n"
     ]
    }
   ],
   "source": [
    "# Perform basic data inspection methods\n",
    "print(\"Head of DataFrame:\\n\", df.head())\n",
    "print(\"Info of DataFrame:\\n\", df.info())\n",
    "print(\"Description of DataFrame:\\n\", df.describe())"
   ]
  },
  {
   "cell_type": "markdown",
   "metadata": {},
   "source": [
    "4. Data Manipulation"
   ]
  },
  {
   "cell_type": "code",
   "execution_count": 143,
   "metadata": {},
   "outputs": [
    {
     "name": "stdout",
     "output_type": "stream",
     "text": [
      "Column A:\n",
      " 0    11\n",
      "1    12\n",
      "2    10\n",
      "Name: A, dtype: int64\n",
      "Columns A and B:\n",
      "     A   B\n",
      "0  11  14\n",
      "1  12  15\n",
      "2  10  16\n"
     ]
    }
   ],
   "source": [
    "# Selecting Data\n",
    "print(\"Column A:\\n\", df['A'])\n",
    "print(\"Columns A and B:\\n\", df[['A', 'B']])"
   ]
  },
  {
   "cell_type": "code",
   "execution_count": 144,
   "metadata": {},
   "outputs": [
    {
     "name": "stdout",
     "output_type": "stream",
     "text": [
      "Filtered DataFrame (A > 1):\n",
      "     A   B   C\n",
      "0  11  14  17\n",
      "1  12  15  18\n",
      "2  10  16  19\n"
     ]
    }
   ],
   "source": [
    "# Filtering Data\n",
    "filtered_df = df[df['A'] > 1]\n",
    "print(\"Filtered DataFrame (A > 1):\\n\", filtered_df)"
   ]
  },
  {
   "cell_type": "code",
   "execution_count": 145,
   "metadata": {},
   "outputs": [
    {
     "name": "stdout",
     "output_type": "stream",
     "text": [
      "DataFrame with new column D:\n",
      "     A   B   C   D\n",
      "0  11  14  17  28\n",
      "1  12  15  18  30\n",
      "2  10  16  19  29\n",
      "DataFrame after dropping column D:\n",
      "     A   B   C\n",
      "0  11  14  17\n",
      "1  12  15  18\n",
      "2  10  16  19\n"
     ]
    }
   ],
   "source": [
    "# Adding/Removing Columns\n",
    "df['D'] = df['A'] + df['C']\n",
    "print(\"DataFrame with new column D:\\n\", df)\n",
    "df.drop('D', axis=1, inplace=True)\n",
    "print(\"DataFrame after dropping column D:\\n\", df)"
   ]
  },
  {
   "cell_type": "code",
   "execution_count": 146,
   "metadata": {},
   "outputs": [
    {
     "name": "stdout",
     "output_type": "stream",
     "text": [
      "DataFrame with NaN:\n",
      "       A   B   C\n",
      "0  11.0  14  17\n",
      "1   NaN  15  18\n",
      "2  10.0  16  19\n",
      "DataFrame after dropping NaN:\n",
      "       A   B   C\n",
      "0  11.0  14  17\n",
      "2  10.0  16  19\n",
      "DataFrame after filling NaN with 0:\n",
      "       A   B   C\n",
      "0  11.0  14  17\n",
      "1   0.0  15  18\n",
      "2  10.0  16  19\n"
     ]
    }
   ],
   "source": [
    "# Handling Missing Data\n",
    "df_with_nan = df.copy()\n",
    "df_with_nan.loc[1, 'A'] = np.nan\n",
    "print(\"DataFrame with NaN:\\n\", df_with_nan)\n",
    "print(\"DataFrame after dropping NaN:\\n\", df_with_nan.dropna())\n",
    "print(\"DataFrame after filling NaN with 0:\\n\", df_with_nan.fillna(0))"
   ]
  },
  {
   "cell_type": "markdown",
   "metadata": {},
   "source": [
    "### Task 3: Data Analysis with Pandas"
   ]
  },
  {
   "cell_type": "code",
   "execution_count": 147,
   "metadata": {},
   "outputs": [
    {
     "name": "stdout",
     "output_type": "stream",
     "text": [
      "Mean of column C: 18.0\n",
      "Sum of column C: 54\n"
     ]
    }
   ],
   "source": [
    "# Aggregations\n",
    "print(\"Mean of column C:\", df['C'].mean())\n",
    "print(\"Sum of column C:\", df['C'].sum())"
   ]
  },
  {
   "cell_type": "code",
   "execution_count": 148,
   "metadata": {},
   "outputs": [
    {
     "name": "stdout",
     "output_type": "stream",
     "text": [
      "Merged DataFrame:\n",
      "   key  value_x  value_y\n",
      "0   A        1        4\n",
      "1   B        2        5\n"
     ]
    }
   ],
   "source": [
    "# Merging and Joining\n",
    "df1 = pd.DataFrame({'key': ['A', 'B', 'C'], 'value': [1, 2, 3]})\n",
    "df2 = pd.DataFrame({'key': ['A', 'B', 'D'], 'value': [4, 5, 6]})\n",
    "merged_df = pd.merge(df1, df2, on='key', how='inner')\n",
    "print(\"Merged DataFrame:\\n\", merged_df)"
   ]
  },
  {
   "cell_type": "code",
   "execution_count": 149,
   "metadata": {},
   "outputs": [
    {
     "name": "stdout",
     "output_type": "stream",
     "text": [
      "Pivot Table:\n",
      " B     14    15    16\n",
      "A                   \n",
      "10   NaN   NaN  19.0\n",
      "11  17.0   NaN   NaN\n",
      "12   NaN  18.0   NaN\n"
     ]
    }
   ],
   "source": [
    "# Pivot Tables\n",
    "pivot_df = df.pivot_table(values='C', index='A', columns='B', aggfunc='mean')\n",
    "print(\"Pivot Table:\\n\", pivot_df)"
   ]
  },
  {
   "cell_type": "code",
   "execution_count": 150,
   "metadata": {},
   "outputs": [
    {
     "name": "stdout",
     "output_type": "stream",
     "text": [
      "DataFrame with Date Index:\n",
      "              A   B   C\n",
      "date                  \n",
      "2020-01-01  11  14  17\n",
      "2020-01-02  12  15  18\n",
      "2020-01-03  10  16  19\n",
      "Resampled DataFrame:\n",
      "                A     B     C\n",
      "date                        \n",
      "2020-01-31  11.0  15.0  18.0\n"
     ]
    }
   ],
   "source": [
    "# Time Series Analysis\n",
    "df['date'] = pd.date_range(start='1/1/2020', periods=len(df), freq='D')\n",
    "df.set_index('date', inplace=True)\n",
    "print(\"DataFrame with Date Index:\\n\", df)\n",
    "resampled_df = df.resample('M').mean()\n",
    "print(\"Resampled DataFrame:\\n\", resampled_df)"
   ]
  }
 ],
 "metadata": {
  "kernelspec": {
   "display_name": "base",
   "language": "python",
   "name": "python3"
  },
  "language_info": {
   "codemirror_mode": {
    "name": "ipython",
    "version": 3
   },
   "file_extension": ".py",
   "mimetype": "text/x-python",
   "name": "python",
   "nbconvert_exporter": "python",
   "pygments_lexer": "ipython3",
   "version": "3.11.7"
  }
 },
 "nbformat": 4,
 "nbformat_minor": 2
}
