{
 "cells": [
  {
   "cell_type": "markdown",
   "metadata": {},
   "source": [
    "# NumPy and Pandas Assignment\n"
   ]
  },
  {
   "cell_type": "code",
   "execution_count": 3,
   "metadata": {},
   "outputs": [
    {
     "name": "stdout",
     "output_type": "stream",
     "text": [
      "Collecting pandas\n",
      "  Downloading pandas-2.2.2-cp311-cp311-win_amd64.whl.metadata (19 kB)\n",
      "Requirement already satisfied: numpy>=1.23.2 in c:\\users\\dell\\appdata\\local\\packages\\pythonsoftwarefoundation.python.3.11_qbz5n2kfra8p0\\localcache\\local-packages\\python311\\site-packages (from pandas) (1.26.4)\n",
      "Requirement already satisfied: python-dateutil>=2.8.2 in c:\\users\\dell\\appdata\\local\\packages\\pythonsoftwarefoundation.python.3.11_qbz5n2kfra8p0\\localcache\\local-packages\\python311\\site-packages (from pandas) (2.8.2)\n",
      "Collecting pytz>=2020.1 (from pandas)\n",
      "  Downloading pytz-2024.1-py2.py3-none-any.whl.metadata (22 kB)\n",
      "Collecting tzdata>=2022.7 (from pandas)\n",
      "  Downloading tzdata-2024.1-py2.py3-none-any.whl.metadata (1.4 kB)\n",
      "Requirement already satisfied: six>=1.5 in c:\\users\\dell\\appdata\\local\\packages\\pythonsoftwarefoundation.python.3.11_qbz5n2kfra8p0\\localcache\\local-packages\\python311\\site-packages (from python-dateutil>=2.8.2->pandas) (1.16.0)\n",
      "Downloading pandas-2.2.2-cp311-cp311-win_amd64.whl (11.6 MB)\n",
      "   ---------------------------------------- 0.0/11.6 MB ? eta -:--:--\n",
      "   ---------------------------------------- 0.0/11.6 MB 1.9 MB/s eta 0:00:07\n",
      "   ---------------------------------------- 0.0/11.6 MB 1.9 MB/s eta 0:00:07\n",
      "   ---------------------------------------- 0.1/11.6 MB 327.7 kB/s eta 0:00:36\n",
      "   ---------------------------------------- 0.1/11.6 MB 587.0 kB/s eta 0:00:20\n",
      "   ---------------------------------------- 0.1/11.6 MB 587.0 kB/s eta 0:00:20\n",
      "   ---------------------------------------- 0.1/11.6 MB 450.6 kB/s eta 0:00:26\n",
      "    --------------------------------------- 0.2/11.6 MB 758.5 kB/s eta 0:00:16\n",
      "    --------------------------------------- 0.2/11.6 MB 758.5 kB/s eta 0:00:16\n",
      "   - -------------------------------------- 0.4/11.6 MB 880.6 kB/s eta 0:00:13\n",
      "   - -------------------------------------- 0.5/11.6 MB 1.1 MB/s eta 0:00:11\n",
      "   - -------------------------------------- 0.5/11.6 MB 1.1 MB/s eta 0:00:11\n",
      "   -- ------------------------------------- 0.7/11.6 MB 1.4 MB/s eta 0:00:08\n",
      "   --- ------------------------------------ 0.9/11.6 MB 1.5 MB/s eta 0:00:07\n",
      "   --- ------------------------------------ 0.9/11.6 MB 1.5 MB/s eta 0:00:07\n",
      "   --- ------------------------------------ 0.9/11.6 MB 1.5 MB/s eta 0:00:07\n",
      "   --- ------------------------------------ 0.9/11.6 MB 1.5 MB/s eta 0:00:07\n",
      "   --- ------------------------------------ 0.9/11.6 MB 1.5 MB/s eta 0:00:07\n",
      "   --- ------------------------------------ 0.9/11.6 MB 1.2 MB/s eta 0:00:09\n",
      "   --- ------------------------------------ 0.9/11.6 MB 1.2 MB/s eta 0:00:09\n",
      "   --- ------------------------------------ 0.9/11.6 MB 1.2 MB/s eta 0:00:09\n",
      "   ---- ----------------------------------- 1.3/11.6 MB 1.4 MB/s eta 0:00:08\n",
      "   ---- ----------------------------------- 1.4/11.6 MB 1.4 MB/s eta 0:00:08\n",
      "   ---- ----------------------------------- 1.4/11.6 MB 1.4 MB/s eta 0:00:08\n",
      "   ----- ---------------------------------- 1.5/11.6 MB 1.4 MB/s eta 0:00:08\n",
      "   ----- ---------------------------------- 1.5/11.6 MB 1.4 MB/s eta 0:00:08\n",
      "   ----- ---------------------------------- 1.6/11.6 MB 1.4 MB/s eta 0:00:08\n",
      "   ----- ---------------------------------- 1.7/11.6 MB 1.4 MB/s eta 0:00:08\n",
      "   ------ --------------------------------- 1.8/11.6 MB 1.4 MB/s eta 0:00:08\n",
      "   ------ --------------------------------- 1.8/11.6 MB 1.4 MB/s eta 0:00:07\n",
      "   ------ --------------------------------- 1.9/11.6 MB 1.4 MB/s eta 0:00:08\n",
      "   ------ --------------------------------- 1.9/11.6 MB 1.4 MB/s eta 0:00:08\n",
      "   ------ --------------------------------- 2.0/11.6 MB 1.4 MB/s eta 0:00:07\n",
      "   ------- -------------------------------- 2.1/11.6 MB 1.4 MB/s eta 0:00:07\n",
      "   ------- -------------------------------- 2.1/11.6 MB 1.4 MB/s eta 0:00:07\n",
      "   ------- -------------------------------- 2.3/11.6 MB 1.4 MB/s eta 0:00:07\n",
      "   -------- ------------------------------- 2.3/11.6 MB 1.5 MB/s eta 0:00:07\n",
      "   -------- ------------------------------- 2.3/11.6 MB 1.5 MB/s eta 0:00:07\n",
      "   -------- ------------------------------- 2.3/11.6 MB 1.5 MB/s eta 0:00:07\n",
      "   -------- ------------------------------- 2.3/11.6 MB 1.5 MB/s eta 0:00:07\n",
      "   -------- ------------------------------- 2.4/11.6 MB 1.3 MB/s eta 0:00:08\n",
      "   -------- ------------------------------- 2.4/11.6 MB 1.3 MB/s eta 0:00:08\n",
      "   -------- ------------------------------- 2.5/11.6 MB 1.3 MB/s eta 0:00:07\n",
      "   -------- ------------------------------- 2.5/11.6 MB 1.3 MB/s eta 0:00:07\n",
      "   -------- ------------------------------- 2.5/11.6 MB 1.3 MB/s eta 0:00:07\n",
      "   -------- ------------------------------- 2.5/11.6 MB 1.2 MB/s eta 0:00:08\n",
      "   --------- ------------------------------ 2.7/11.6 MB 1.3 MB/s eta 0:00:07\n",
      "   --------- ------------------------------ 2.8/11.6 MB 1.3 MB/s eta 0:00:07\n",
      "   --------- ------------------------------ 2.9/11.6 MB 1.3 MB/s eta 0:00:07\n",
      "   ---------- ----------------------------- 2.9/11.6 MB 1.3 MB/s eta 0:00:07\n",
      "   ---------- ----------------------------- 2.9/11.6 MB 1.3 MB/s eta 0:00:07\n",
      "   ---------- ----------------------------- 3.0/11.6 MB 1.3 MB/s eta 0:00:07\n",
      "   ---------- ----------------------------- 3.1/11.6 MB 1.3 MB/s eta 0:00:07\n",
      "   ---------- ----------------------------- 3.1/11.6 MB 1.3 MB/s eta 0:00:07\n",
      "   ---------- ----------------------------- 3.1/11.6 MB 1.3 MB/s eta 0:00:07\n",
      "   ---------- ----------------------------- 3.2/11.6 MB 1.3 MB/s eta 0:00:07\n",
      "   ----------- ---------------------------- 3.2/11.6 MB 1.3 MB/s eta 0:00:07\n",
      "   ----------- ---------------------------- 3.4/11.6 MB 1.3 MB/s eta 0:00:07\n",
      "   ------------ --------------------------- 3.6/11.6 MB 1.4 MB/s eta 0:00:06\n",
      "   ------------ --------------------------- 3.6/11.6 MB 1.4 MB/s eta 0:00:06\n",
      "   ------------ --------------------------- 3.6/11.6 MB 1.4 MB/s eta 0:00:06\n",
      "   ------------ --------------------------- 3.6/11.6 MB 1.4 MB/s eta 0:00:06\n",
      "   ------------ --------------------------- 3.6/11.6 MB 1.4 MB/s eta 0:00:06\n",
      "   ------------ --------------------------- 3.7/11.6 MB 1.3 MB/s eta 0:00:07\n",
      "   ------------ --------------------------- 3.8/11.6 MB 1.3 MB/s eta 0:00:07\n",
      "   ------------- -------------------------- 3.8/11.6 MB 1.3 MB/s eta 0:00:06\n",
      "   ------------- -------------------------- 3.9/11.6 MB 1.3 MB/s eta 0:00:06\n",
      "   ------------- -------------------------- 4.0/11.6 MB 1.3 MB/s eta 0:00:06\n",
      "   ------------- -------------------------- 4.1/11.6 MB 1.3 MB/s eta 0:00:06\n",
      "   -------------- ------------------------- 4.1/11.6 MB 1.3 MB/s eta 0:00:06\n",
      "   -------------- ------------------------- 4.1/11.6 MB 1.3 MB/s eta 0:00:06\n",
      "   -------------- ------------------------- 4.2/11.6 MB 1.3 MB/s eta 0:00:06\n",
      "   -------------- ------------------------- 4.2/11.6 MB 1.3 MB/s eta 0:00:06\n",
      "   -------------- ------------------------- 4.3/11.6 MB 1.3 MB/s eta 0:00:06\n",
      "   -------------- ------------------------- 4.4/11.6 MB 1.3 MB/s eta 0:00:06\n",
      "   --------------- ------------------------ 4.4/11.6 MB 1.3 MB/s eta 0:00:06\n",
      "   --------------- ------------------------ 4.5/11.6 MB 1.3 MB/s eta 0:00:06\n",
      "   --------------- ------------------------ 4.5/11.6 MB 1.3 MB/s eta 0:00:06\n",
      "   --------------- ------------------------ 4.6/11.6 MB 1.3 MB/s eta 0:00:06\n",
      "   ---------------- ----------------------- 4.7/11.6 MB 1.3 MB/s eta 0:00:06\n",
      "   ---------------- ----------------------- 4.8/11.6 MB 1.3 MB/s eta 0:00:06\n",
      "   ---------------- ----------------------- 4.9/11.6 MB 1.3 MB/s eta 0:00:06\n",
      "   ---------------- ----------------------- 4.9/11.6 MB 1.3 MB/s eta 0:00:06\n",
      "   ----------------- ---------------------- 5.0/11.6 MB 1.3 MB/s eta 0:00:05\n",
      "   ----------------- ---------------------- 5.1/11.6 MB 1.3 MB/s eta 0:00:05\n",
      "   ----------------- ---------------------- 5.2/11.6 MB 1.3 MB/s eta 0:00:05\n",
      "   ------------------ --------------------- 5.3/11.6 MB 1.4 MB/s eta 0:00:05\n",
      "   ------------------ --------------------- 5.4/11.6 MB 1.4 MB/s eta 0:00:05\n",
      "   ------------------ --------------------- 5.4/11.6 MB 1.4 MB/s eta 0:00:05\n",
      "   ------------------ --------------------- 5.5/11.6 MB 1.4 MB/s eta 0:00:05\n",
      "   ------------------- -------------------- 5.6/11.6 MB 1.4 MB/s eta 0:00:05\n",
      "   ------------------- -------------------- 5.6/11.6 MB 1.4 MB/s eta 0:00:05\n",
      "   ------------------- -------------------- 5.7/11.6 MB 1.4 MB/s eta 0:00:05\n",
      "   ------------------- -------------------- 5.8/11.6 MB 1.4 MB/s eta 0:00:05\n",
      "   ------------------- -------------------- 5.8/11.6 MB 1.4 MB/s eta 0:00:05\n",
      "   ------------------- -------------------- 5.8/11.6 MB 1.4 MB/s eta 0:00:05\n",
      "   ------------------- -------------------- 5.8/11.6 MB 1.4 MB/s eta 0:00:05\n",
      "   ------------------- -------------------- 5.8/11.6 MB 1.4 MB/s eta 0:00:05\n",
      "   ------------------- -------------------- 5.8/11.6 MB 1.3 MB/s eta 0:00:05\n",
      "   ------------------- -------------------- 5.8/11.6 MB 1.3 MB/s eta 0:00:05\n",
      "   -------------------- ------------------- 5.8/11.6 MB 1.3 MB/s eta 0:00:05\n",
      "   --------------------- ------------------ 6.4/11.6 MB 1.4 MB/s eta 0:00:04\n",
      "   ---------------------- ----------------- 6.4/11.6 MB 1.4 MB/s eta 0:00:04\n",
      "   ---------------------- ----------------- 6.5/11.6 MB 1.4 MB/s eta 0:00:04\n",
      "   ---------------------- ----------------- 6.5/11.6 MB 1.4 MB/s eta 0:00:04\n",
      "   ---------------------- ----------------- 6.6/11.6 MB 1.4 MB/s eta 0:00:04\n",
      "   ---------------------- ----------------- 6.7/11.6 MB 1.4 MB/s eta 0:00:04\n",
      "   ----------------------- ---------------- 6.8/11.6 MB 1.4 MB/s eta 0:00:04\n",
      "   ----------------------- ---------------- 6.9/11.6 MB 1.4 MB/s eta 0:00:04\n",
      "   ----------------------- ---------------- 6.9/11.6 MB 1.4 MB/s eta 0:00:04\n",
      "   ----------------------- ---------------- 7.0/11.6 MB 1.4 MB/s eta 0:00:04\n",
      "   ------------------------ --------------- 7.0/11.6 MB 1.4 MB/s eta 0:00:04\n",
      "   ------------------------ --------------- 7.1/11.6 MB 1.4 MB/s eta 0:00:04\n",
      "   ------------------------ --------------- 7.2/11.6 MB 1.4 MB/s eta 0:00:04\n",
      "   ------------------------ --------------- 7.2/11.6 MB 1.4 MB/s eta 0:00:04\n",
      "   ------------------------ --------------- 7.3/11.6 MB 1.4 MB/s eta 0:00:04\n",
      "   ------------------------- -------------- 7.4/11.6 MB 1.4 MB/s eta 0:00:04\n",
      "   ------------------------- -------------- 7.4/11.6 MB 1.4 MB/s eta 0:00:04\n",
      "   ------------------------- -------------- 7.5/11.6 MB 1.4 MB/s eta 0:00:03\n",
      "   ------------------------- -------------- 7.5/11.6 MB 1.4 MB/s eta 0:00:03\n",
      "   -------------------------- ------------- 7.6/11.6 MB 1.4 MB/s eta 0:00:03\n",
      "   -------------------------- ------------- 7.7/11.6 MB 1.4 MB/s eta 0:00:03\n",
      "   -------------------------- ------------- 7.8/11.6 MB 1.4 MB/s eta 0:00:03\n",
      "   -------------------------- ------------- 7.8/11.6 MB 1.4 MB/s eta 0:00:03\n",
      "   --------------------------- ------------ 7.9/11.6 MB 1.4 MB/s eta 0:00:03\n",
      "   --------------------------- ------------ 7.9/11.6 MB 1.4 MB/s eta 0:00:03\n",
      "   --------------------------- ------------ 8.0/11.6 MB 1.4 MB/s eta 0:00:03\n",
      "   --------------------------- ------------ 8.1/11.6 MB 1.4 MB/s eta 0:00:03\n",
      "   ---------------------------- ----------- 8.2/11.6 MB 1.4 MB/s eta 0:00:03\n",
      "   ---------------------------- ----------- 8.2/11.6 MB 1.4 MB/s eta 0:00:03\n",
      "   ---------------------------- ----------- 8.3/11.6 MB 1.4 MB/s eta 0:00:03\n",
      "   ---------------------------- ----------- 8.4/11.6 MB 1.4 MB/s eta 0:00:03\n",
      "   ---------------------------- ----------- 8.4/11.6 MB 1.4 MB/s eta 0:00:03\n",
      "   ----------------------------- ---------- 8.5/11.6 MB 1.4 MB/s eta 0:00:03\n",
      "   ----------------------------- ---------- 8.5/11.6 MB 1.4 MB/s eta 0:00:03\n",
      "   ----------------------------- ---------- 8.6/11.6 MB 1.4 MB/s eta 0:00:03\n",
      "   ----------------------------- ---------- 8.7/11.6 MB 1.4 MB/s eta 0:00:03\n",
      "   ------------------------------ --------- 8.8/11.6 MB 1.4 MB/s eta 0:00:03\n",
      "   ------------------------------ --------- 8.8/11.6 MB 1.4 MB/s eta 0:00:03\n",
      "   ------------------------------ --------- 8.9/11.6 MB 1.4 MB/s eta 0:00:02\n",
      "   ------------------------------ --------- 8.9/11.6 MB 1.4 MB/s eta 0:00:02\n",
      "   ------------------------------ --------- 9.0/11.6 MB 1.4 MB/s eta 0:00:02\n",
      "   ------------------------------- -------- 9.1/11.6 MB 1.4 MB/s eta 0:00:02\n",
      "   ------------------------------- -------- 9.1/11.6 MB 1.4 MB/s eta 0:00:02\n",
      "   ------------------------------- -------- 9.2/11.6 MB 1.4 MB/s eta 0:00:02\n",
      "   ------------------------------- -------- 9.3/11.6 MB 1.4 MB/s eta 0:00:02\n",
      "   -------------------------------- ------- 9.3/11.6 MB 1.4 MB/s eta 0:00:02\n",
      "   -------------------------------- ------- 9.4/11.6 MB 1.4 MB/s eta 0:00:02\n",
      "   -------------------------------- ------- 9.5/11.6 MB 1.4 MB/s eta 0:00:02\n",
      "   -------------------------------- ------- 9.6/11.6 MB 1.4 MB/s eta 0:00:02\n",
      "   --------------------------------- ------ 9.6/11.6 MB 1.4 MB/s eta 0:00:02\n",
      "   --------------------------------- ------ 9.7/11.6 MB 1.4 MB/s eta 0:00:02\n",
      "   --------------------------------- ------ 9.8/11.6 MB 1.4 MB/s eta 0:00:02\n",
      "   --------------------------------- ------ 9.8/11.6 MB 1.4 MB/s eta 0:00:02\n",
      "   ---------------------------------- ----- 9.9/11.6 MB 1.4 MB/s eta 0:00:02\n",
      "   ---------------------------------- ----- 10.0/11.6 MB 1.4 MB/s eta 0:00:02\n",
      "   ---------------------------------- ----- 10.0/11.6 MB 1.4 MB/s eta 0:00:02\n",
      "   ---------------------------------- ----- 10.1/11.6 MB 1.4 MB/s eta 0:00:02\n",
      "   ---------------------------------- ----- 10.1/11.6 MB 1.4 MB/s eta 0:00:02\n",
      "   ----------------------------------- ---- 10.2/11.6 MB 1.4 MB/s eta 0:00:02\n",
      "   ----------------------------------- ---- 10.3/11.6 MB 1.4 MB/s eta 0:00:01\n",
      "   ----------------------------------- ---- 10.3/11.6 MB 1.4 MB/s eta 0:00:01\n",
      "   ----------------------------------- ---- 10.4/11.6 MB 1.4 MB/s eta 0:00:01\n",
      "   ----------------------------------- ---- 10.4/11.6 MB 1.4 MB/s eta 0:00:01\n",
      "   ----------------------------------- ---- 10.4/11.6 MB 1.4 MB/s eta 0:00:01\n",
      "   ----------------------------------- ---- 10.4/11.6 MB 1.4 MB/s eta 0:00:01\n",
      "   ----------------------------------- ---- 10.4/11.6 MB 1.4 MB/s eta 0:00:01\n",
      "   ------------------------------------ --- 10.7/11.6 MB 1.4 MB/s eta 0:00:01\n",
      "   ------------------------------------- -- 10.8/11.6 MB 1.4 MB/s eta 0:00:01\n",
      "   ------------------------------------- -- 10.8/11.6 MB 1.4 MB/s eta 0:00:01\n",
      "   ------------------------------------- -- 10.9/11.6 MB 1.4 MB/s eta 0:00:01\n",
      "   ------------------------------------- -- 11.0/11.6 MB 1.4 MB/s eta 0:00:01\n",
      "   ------------------------------------- -- 11.0/11.6 MB 1.4 MB/s eta 0:00:01\n",
      "   -------------------------------------- - 11.1/11.6 MB 1.4 MB/s eta 0:00:01\n",
      "   -------------------------------------- - 11.2/11.6 MB 1.5 MB/s eta 0:00:01\n",
      "   -------------------------------------- - 11.2/11.6 MB 1.5 MB/s eta 0:00:01\n",
      "   -------------------------------------- - 11.3/11.6 MB 1.4 MB/s eta 0:00:01\n",
      "   -------------------------------------- - 11.3/11.6 MB 1.4 MB/s eta 0:00:01\n",
      "   ---------------------------------------  11.3/11.6 MB 1.4 MB/s eta 0:00:01\n",
      "   ---------------------------------------  11.4/11.6 MB 1.4 MB/s eta 0:00:01\n",
      "   ---------------------------------------  11.5/11.6 MB 1.4 MB/s eta 0:00:01\n",
      "   ---------------------------------------  11.5/11.6 MB 1.4 MB/s eta 0:00:01\n",
      "   ---------------------------------------  11.6/11.6 MB 1.4 MB/s eta 0:00:01\n",
      "   ---------------------------------------  11.6/11.6 MB 1.4 MB/s eta 0:00:01\n",
      "   ---------------------------------------- 11.6/11.6 MB 1.4 MB/s eta 0:00:00\n",
      "Downloading pytz-2024.1-py2.py3-none-any.whl (505 kB)\n",
      "   ---------------------------------------- 0.0/505.5 kB ? eta -:--:--\n",
      "   ------ --------------------------------- 81.9/505.5 kB 4.5 MB/s eta 0:00:01\n",
      "   ------ --------------------------------- 81.9/505.5 kB 4.5 MB/s eta 0:00:01\n",
      "   ------ --------------------------------- 81.9/505.5 kB 4.5 MB/s eta 0:00:01\n",
      "   ------ --------------------------------- 81.9/505.5 kB 4.5 MB/s eta 0:00:01\n",
      "   -------- ----------------------------- 112.6/505.5 kB 467.6 kB/s eta 0:00:01\n",
      "   ---------------- --------------------- 225.3/505.5 kB 765.3 kB/s eta 0:00:01\n",
      "   -------------------- ----------------- 266.2/505.5 kB 780.5 kB/s eta 0:00:01\n",
      "   ----------------------- -------------- 317.4/505.5 kB 819.2 kB/s eta 0:00:01\n",
      "   -------------------------- ----------- 348.2/505.5 kB 832.3 kB/s eta 0:00:01\n",
      "   ------------------------------ ------- 399.4/505.5 kB 829.7 kB/s eta 0:00:01\n",
      "   --------------------------------- ---- 450.6/505.5 kB 853.3 kB/s eta 0:00:01\n",
      "   ------------------------------------ - 481.3/505.5 kB 861.1 kB/s eta 0:00:01\n",
      "   -------------------------------------- 505.5/505.5 kB 833.7 kB/s eta 0:00:00\n",
      "Downloading tzdata-2024.1-py2.py3-none-any.whl (345 kB)\n",
      "   ---------------------------------------- 0.0/345.4 kB ? eta -:--:--\n",
      "   --------- ------------------------------ 81.9/345.4 kB ? eta -:--:--\n",
      "   --------- ------------------------------ 81.9/345.4 kB ? eta -:--:--\n",
      "   --------- ------------------------------ 81.9/345.4 kB ? eta -:--:--\n",
      "   --------- ------------------------------ 81.9/345.4 kB ? eta -:--:--\n",
      "   ---------- ---------------------------- 92.2/345.4 kB 374.1 kB/s eta 0:00:01\n",
      "   --------------------- ---------------- 194.6/345.4 kB 784.3 kB/s eta 0:00:01\n",
      "   --------------------- ---------------- 194.6/345.4 kB 784.3 kB/s eta 0:00:01\n",
      "   --------------------------- ---------- 245.8/345.4 kB 628.1 kB/s eta 0:00:01\n",
      "   ----------------------------- -------- 266.2/345.4 kB 630.5 kB/s eta 0:00:01\n",
      "   -------------------------------- ----- 297.0/345.4 kB 611.3 kB/s eta 0:00:01\n",
      "   -------------------------------------  337.9/345.4 kB 655.4 kB/s eta 0:00:01\n",
      "   -------------------------------------- 345.4/345.4 kB 631.1 kB/s eta 0:00:00\n",
      "Installing collected packages: pytz, tzdata, pandas\n",
      "Successfully installed pandas-2.2.2 pytz-2024.1 tzdata-2024.1\n"
     ]
    },
    {
     "name": "stderr",
     "output_type": "stream",
     "text": [
      "\n",
      "[notice] A new release of pip is available: 24.0 -> 24.1\n",
      "[notice] To update, run: C:\\Users\\DELL\\AppData\\Local\\Microsoft\\WindowsApps\\PythonSoftwareFoundation.Python.3.11_qbz5n2kfra8p0\\python.exe -m pip install --upgrade pip\n"
     ]
    }
   ],
   "source": [
    "!pip install pandas\n"
   ]
  },
  {
   "cell_type": "code",
   "execution_count": 2,
   "metadata": {},
   "outputs": [],
   "source": [
    "import numpy as np\n",
    "import pandas as pd"
   ]
  },
  {
   "cell_type": "code",
   "execution_count": 2,
   "metadata": {},
   "outputs": [
    {
     "name": "stdout",
     "output_type": "stream",
     "text": [
      "1D Array: [1 2 3 4 5]\n"
     ]
    }
   ],
   "source": [
    "# Task 1: NumPy Basics\n",
    "\n",
    "# 1. Array Creation\n",
    "# Create a 1D and a 2D NumPy array\n",
    "arr_1d = np.array([1, 2, 3, 4, 5])\n",
    "print(\"1D Array:\", arr_1d)"
   ]
  },
  {
   "cell_type": "code",
   "execution_count": 5,
   "metadata": {},
   "outputs": [
    {
     "name": "stdout",
     "output_type": "stream",
     "text": [
      "2D Array:\n",
      " [[1 2 3 4]\n",
      " [4 5 6 7]]\n"
     ]
    }
   ],
   "source": [
    "arr_2d = np.array([[1, 2, 3,4], [4, 5, 6,7]])\n",
    "print(\"2D Array:\\n\", arr_2d)\n"
   ]
  },
  {
   "cell_type": "code",
   "execution_count": 6,
   "metadata": {},
   "outputs": [
    {
     "name": "stdout",
     "output_type": "stream",
     "text": [
      "1D Array + 10: [11 12 13 14 15]\n",
      "2D Array * 2:\n",
      " [[ 2  4  6  8]\n",
      " [ 8 10 12 14]]\n"
     ]
    }
   ],
   "source": [
    "# 2. Array Operations\n",
    "# Perform basic arithmetic operations on the arrays\n",
    "arr_1d_add = arr_1d + 10\n",
    "arr_2d_mult = arr_2d * 2\n",
    "print(\"1D Array + 10:\", arr_1d_add)\n",
    "print(\"2D Array * 2:\\n\", arr_2d_mult)"
   ]
  },
  {
   "cell_type": "code",
   "execution_count": 7,
   "metadata": {},
   "outputs": [
    {
     "name": "stdout",
     "output_type": "stream",
     "text": [
      "First element of 1D array: 1\n",
      "First row of 2D array:\n",
      " [1 2 3 4]\n"
     ]
    }
   ],
   "source": [
    "# 3. Indexing and Slicing\n",
    "# Demonstrate indexing and slicing on the arrays\n",
    "print(\"First element of 1D array:\", arr_1d[0])\n",
    "print(\"First row of 2D array:\\n\", arr_2d[0, :])"
   ]
  },
  {
   "cell_type": "code",
   "execution_count": 9,
   "metadata": {},
   "outputs": [
    {
     "name": "stdout",
     "output_type": "stream",
     "text": [
      "Shape of 2D array: (2, 4)\n",
      "Reshaped 2D Array:\n",
      " [[1 2]\n",
      " [3 4]\n",
      " [4 5]\n",
      " [6 7]]\n"
     ]
    }
   ],
   "source": [
    "# 4. Shape and Reshape\n",
    "# Show how to check the shape of an array and reshape it\n",
    "print(\"Shape of 2D array:\", arr_2d.shape)\n",
    "reshaped_arr = arr_2d.reshape((4, 2))\n",
    "print(\"Reshaped 2D Array:\\n\", reshaped_arr)\n"
   ]
  },
  {
   "cell_type": "code",
   "execution_count": 10,
   "metadata": {},
   "outputs": [
    {
     "name": "stdout",
     "output_type": "stream",
     "text": [
      "Pandas Series:\n",
      " 0    1\n",
      "1    2\n",
      "2    3\n",
      "3    4\n",
      "4    5\n",
      "dtype: int64\n"
     ]
    }
   ],
   "source": [
    "# Task 2: Pandas Basics\n",
    "\n",
    "# 1. Series and DataFrame Creation\n",
    "# Create a Pandas Series and DataFrame\n",
    "s = pd.Series([1, 2, 3, 4, 5])\n",
    "print(\"Pandas Series:\\n\", s)"
   ]
  },
  {
   "cell_type": "code",
   "execution_count": 6,
   "metadata": {},
   "outputs": [
    {
     "name": "stdout",
     "output_type": "stream",
     "text": [
      "Pandas DataFrame:\n",
      "    A  B  C   D\n",
      "0  1  4  7  10\n",
      "1  2  5  8  11\n",
      "2  3  6  9  12\n",
      "3  4  6  9  12\n"
     ]
    }
   ],
   "source": [
    "df = pd.DataFrame({\n",
    "    'A': [1, 2, 3,4],\n",
    "    'B': [4, 5, 6,6],\n",
    "    'C': [7, 8, 9,9],\n",
    "    'D': [10, 11, 12,12]\n",
    "})\n",
    "print(\"Pandas DataFrame:\\n\", df)"
   ]
  },
  {
   "cell_type": "code",
   "execution_count": 3,
   "metadata": {},
   "outputs": [
    {
     "name": "stdout",
     "output_type": "stream",
     "text": [
      "Read DataFrame from CSV:\n",
      "      PassengerId  Survived  Pclass  \\\n",
      "0              1         0       3   \n",
      "1              2         1       1   \n",
      "2              3         1       3   \n",
      "3              4         1       1   \n",
      "4              5         0       3   \n",
      "..           ...       ...     ...   \n",
      "886          887         0       2   \n",
      "887          888         1       1   \n",
      "888          889         0       3   \n",
      "889          890         1       1   \n",
      "890          891         0       3   \n",
      "\n",
      "                                                  Name     Sex   Age  SibSp  \\\n",
      "0                              Braund, Mr. Owen Harris    male  22.0      1   \n",
      "1    Cumings, Mrs. John Bradley (Florence Briggs Th...  female  38.0      1   \n",
      "2                               Heikkinen, Miss. Laina  female  26.0      0   \n",
      "3         Futrelle, Mrs. Jacques Heath (Lily May Peel)  female  35.0      1   \n",
      "4                             Allen, Mr. William Henry    male  35.0      0   \n",
      "..                                                 ...     ...   ...    ...   \n",
      "886                              Montvila, Rev. Juozas    male  27.0      0   \n",
      "887                       Graham, Miss. Margaret Edith  female  19.0      0   \n",
      "888           Johnston, Miss. Catherine Helen \"Carrie\"  female   NaN      1   \n",
      "889                              Behr, Mr. Karl Howell    male  26.0      0   \n",
      "890                                Dooley, Mr. Patrick    male  32.0      0   \n",
      "\n",
      "     Parch            Ticket     Fare Cabin Embarked  \n",
      "0        0         A/5 21171   7.2500   NaN        S  \n",
      "1        0          PC 17599  71.2833   C85        C  \n",
      "2        0  STON/O2. 3101282   7.9250   NaN        S  \n",
      "3        0            113803  53.1000  C123        S  \n",
      "4        0            373450   8.0500   NaN        S  \n",
      "..     ...               ...      ...   ...      ...  \n",
      "886      0            211536  13.0000   NaN        S  \n",
      "887      0            112053  30.0000   B42        S  \n",
      "888      2        W./C. 6607  23.4500   NaN        S  \n",
      "889      0            111369  30.0000  C148        C  \n",
      "890      0            370376   7.7500   NaN        Q  \n",
      "\n",
      "[891 rows x 12 columns]\n"
     ]
    }
   ],
   "source": [
    "# 2. Reading Data\n",
    "# Read data from a CSV file (ensure you have a sample CSV file in your repository)\n",
    "df_read = pd.read_csv('Titanic-Dataset.csv')\n",
    "print(\"Read DataFrame from CSV:\\n\", df_read)"
   ]
  },
  {
   "cell_type": "code",
   "execution_count": 5,
   "metadata": {},
   "outputs": [
    {
     "name": "stdout",
     "output_type": "stream",
     "text": [
      "Head of DataFrame:\n",
      "    PassengerId  Survived  Pclass  \\\n",
      "0            1         0       3   \n",
      "1            2         1       1   \n",
      "2            3         1       3   \n",
      "3            4         1       1   \n",
      "4            5         0       3   \n",
      "\n",
      "                                                Name     Sex   Age  SibSp  \\\n",
      "0                            Braund, Mr. Owen Harris    male  22.0      1   \n",
      "1  Cumings, Mrs. John Bradley (Florence Briggs Th...  female  38.0      1   \n",
      "2                             Heikkinen, Miss. Laina  female  26.0      0   \n",
      "3       Futrelle, Mrs. Jacques Heath (Lily May Peel)  female  35.0      1   \n",
      "4                           Allen, Mr. William Henry    male  35.0      0   \n",
      "\n",
      "   Parch            Ticket     Fare Cabin Embarked  \n",
      "0      0         A/5 21171   7.2500   NaN        S  \n",
      "1      0          PC 17599  71.2833   C85        C  \n",
      "2      0  STON/O2. 3101282   7.9250   NaN        S  \n",
      "3      0            113803  53.1000  C123        S  \n",
      "4      0            373450   8.0500   NaN        S  \n",
      "<class 'pandas.core.frame.DataFrame'>\n",
      "RangeIndex: 891 entries, 0 to 890\n",
      "Data columns (total 12 columns):\n",
      " #   Column       Non-Null Count  Dtype  \n",
      "---  ------       --------------  -----  \n",
      " 0   PassengerId  891 non-null    int64  \n",
      " 1   Survived     891 non-null    int64  \n",
      " 2   Pclass       891 non-null    int64  \n",
      " 3   Name         891 non-null    object \n",
      " 4   Sex          891 non-null    object \n",
      " 5   Age          714 non-null    float64\n",
      " 6   SibSp        891 non-null    int64  \n",
      " 7   Parch        891 non-null    int64  \n",
      " 8   Ticket       891 non-null    object \n",
      " 9   Fare         891 non-null    float64\n",
      " 10  Cabin        204 non-null    object \n",
      " 11  Embarked     889 non-null    object \n",
      "dtypes: float64(2), int64(5), object(5)\n",
      "memory usage: 83.7+ KB\n",
      "Info of DataFrame:\n",
      " None\n",
      "Description of DataFrame:\n",
      "        PassengerId    Survived      Pclass         Age       SibSp  \\\n",
      "count   891.000000  891.000000  891.000000  714.000000  891.000000   \n",
      "mean    446.000000    0.383838    2.308642   29.699118    0.523008   \n",
      "std     257.353842    0.486592    0.836071   14.526497    1.102743   \n",
      "min       1.000000    0.000000    1.000000    0.420000    0.000000   \n",
      "25%     223.500000    0.000000    2.000000   20.125000    0.000000   \n",
      "50%     446.000000    0.000000    3.000000   28.000000    0.000000   \n",
      "75%     668.500000    1.000000    3.000000   38.000000    1.000000   \n",
      "max     891.000000    1.000000    3.000000   80.000000    8.000000   \n",
      "\n",
      "            Parch        Fare  \n",
      "count  891.000000  891.000000  \n",
      "mean     0.381594   32.204208  \n",
      "std      0.806057   49.693429  \n",
      "min      0.000000    0.000000  \n",
      "25%      0.000000    7.910400  \n",
      "50%      0.000000   14.454200  \n",
      "75%      0.000000   31.000000  \n",
      "max      6.000000  512.329200  \n"
     ]
    }
   ],
   "source": [
    "# 3. Data Inspection\n",
    "# Perform basic data inspection methods\n",
    "print(\"Head of DataFrame:\\n\", df_read.head())\n",
    "print(\"Info of DataFrame:\\n\", df_read.info())\n",
    "print(\"Description of DataFrame:\\n\", df_read.describe())"
   ]
  },
  {
   "cell_type": "code",
   "execution_count": 7,
   "metadata": {},
   "outputs": [
    {
     "name": "stdout",
     "output_type": "stream",
     "text": [
      "Column A:\n",
      " 0                                Braund, Mr. Owen Harris\n",
      "1      Cumings, Mrs. John Bradley (Florence Briggs Th...\n",
      "2                                 Heikkinen, Miss. Laina\n",
      "3           Futrelle, Mrs. Jacques Heath (Lily May Peel)\n",
      "4                               Allen, Mr. William Henry\n",
      "                             ...                        \n",
      "886                                Montvila, Rev. Juozas\n",
      "887                         Graham, Miss. Margaret Edith\n",
      "888             Johnston, Miss. Catherine Helen \"Carrie\"\n",
      "889                                Behr, Mr. Karl Howell\n",
      "890                                  Dooley, Mr. Patrick\n",
      "Name: Name, Length: 891, dtype: object\n",
      "Columns A and B:\n",
      "                                                   Name     Sex\n",
      "0                              Braund, Mr. Owen Harris    male\n",
      "1    Cumings, Mrs. John Bradley (Florence Briggs Th...  female\n",
      "2                               Heikkinen, Miss. Laina  female\n",
      "3         Futrelle, Mrs. Jacques Heath (Lily May Peel)  female\n",
      "4                             Allen, Mr. William Henry    male\n",
      "..                                                 ...     ...\n",
      "886                              Montvila, Rev. Juozas    male\n",
      "887                       Graham, Miss. Margaret Edith  female\n",
      "888           Johnston, Miss. Catherine Helen \"Carrie\"  female\n",
      "889                              Behr, Mr. Karl Howell    male\n",
      "890                                Dooley, Mr. Patrick    male\n",
      "\n",
      "[891 rows x 2 columns]\n"
     ]
    }
   ],
   "source": [
    "# 4. Data Manipulation\n",
    "# Selecting Data\n",
    "print(\"Column A:\\n\", df_read['Name'])\n",
    "print(\"Columns A and B:\\n\", df_read[['Name', 'Sex']])"
   ]
  },
  {
   "cell_type": "code",
   "execution_count": 11,
   "metadata": {},
   "outputs": [
    {
     "name": "stdout",
     "output_type": "stream",
     "text": [
      "Filtered DataFrame (A > 28):\n",
      "      PassengerId  Survived  Pclass  \\\n",
      "1              2         1       1   \n",
      "3              4         1       1   \n",
      "4              5         0       3   \n",
      "6              7         0       1   \n",
      "11            12         1       1   \n",
      "..           ...       ...     ...   \n",
      "873          874         0       3   \n",
      "879          880         1       1   \n",
      "881          882         0       3   \n",
      "885          886         0       3   \n",
      "890          891         0       3   \n",
      "\n",
      "                                                  Name     Sex   Age  SibSp  \\\n",
      "1    Cumings, Mrs. John Bradley (Florence Briggs Th...  female  38.0      1   \n",
      "3         Futrelle, Mrs. Jacques Heath (Lily May Peel)  female  35.0      1   \n",
      "4                             Allen, Mr. William Henry    male  35.0      0   \n",
      "6                              McCarthy, Mr. Timothy J    male  54.0      0   \n",
      "11                            Bonnell, Miss. Elizabeth  female  58.0      0   \n",
      "..                                                 ...     ...   ...    ...   \n",
      "873                        Vander Cruyssen, Mr. Victor    male  47.0      0   \n",
      "879      Potter, Mrs. Thomas Jr (Lily Alexenia Wilson)  female  56.0      0   \n",
      "881                                 Markun, Mr. Johann    male  33.0      0   \n",
      "885               Rice, Mrs. William (Margaret Norton)  female  39.0      0   \n",
      "890                                Dooley, Mr. Patrick    male  32.0      0   \n",
      "\n",
      "     Parch    Ticket     Fare Cabin Embarked  \n",
      "1        0  PC 17599  71.2833   C85        C  \n",
      "3        0    113803  53.1000  C123        S  \n",
      "4        0    373450   8.0500   NaN        S  \n",
      "6        0     17463  51.8625   E46        S  \n",
      "11       0    113783  26.5500  C103        S  \n",
      "..     ...       ...      ...   ...      ...  \n",
      "873      0    345765   9.0000   NaN        S  \n",
      "879      1     11767  83.1583   C50        C  \n",
      "881      0    349257   7.8958   NaN        S  \n",
      "885      5    382652  29.1250   NaN        Q  \n",
      "890      0    370376   7.7500   NaN        Q  \n",
      "\n",
      "[352 rows x 12 columns]\n"
     ]
    }
   ],
   "source": [
    "# Filtering Data\n",
    "filtered_df = df_read[df_read['Age'] > 28]\n",
    "print(\"Filtered DataFrame (A > 28):\\n\", filtered_df)"
   ]
  },
  {
   "cell_type": "code",
   "execution_count": 12,
   "metadata": {},
   "outputs": [
    {
     "name": "stdout",
     "output_type": "stream",
     "text": [
      "DataFrame with new column D:\n",
      "    A  B  C   D\n",
      "0  1  4  7   5\n",
      "1  2  5  8   7\n",
      "2  3  6  9   9\n",
      "3  4  6  9  10\n",
      "DataFrame after dropping column D:\n",
      "    A  B  C\n",
      "0  1  4  7\n",
      "1  2  5  8\n",
      "2  3  6  9\n",
      "3  4  6  9\n"
     ]
    }
   ],
   "source": [
    "# Adding/Removing Columns from DataFrame df\n",
    "df['D'] = df['A'] + df['B']\n",
    "print(\"DataFrame with new column D:\\n\", df)\n",
    "df.drop('D', axis=1, inplace=True)\n",
    "print(\"DataFrame after dropping column D:\\n\", df)"
   ]
  },
  {
   "cell_type": "code",
   "execution_count": 13,
   "metadata": {},
   "outputs": [
    {
     "name": "stdout",
     "output_type": "stream",
     "text": [
      "DataFrame with NaN:\n",
      "    A    B  C\n",
      "0  1  4.0  7\n",
      "1  2  NaN  8\n",
      "2  3  6.0  9\n",
      "3  4  6.0  9\n",
      "DataFrame after dropping NaN:\n",
      "    A    B  C\n",
      "0  1  4.0  7\n",
      "2  3  6.0  9\n",
      "3  4  6.0  9\n",
      "DataFrame after filling NaN with 0:\n",
      "    A    B  C\n",
      "0  1  4.0  7\n",
      "1  2  0.0  8\n",
      "2  3  6.0  9\n",
      "3  4  6.0  9\n"
     ]
    }
   ],
   "source": [
    "# Handling Missing Data\n",
    "df_with_nan = df.copy()\n",
    "df_with_nan.loc[1, 'B'] = np.nan\n",
    "print(\"DataFrame with NaN:\\n\", df_with_nan)\n",
    "print(\"DataFrame after dropping NaN:\\n\", df_with_nan.dropna())\n",
    "print(\"DataFrame after filling NaN with 0:\\n\", df_with_nan.fillna(0))"
   ]
  },
  {
   "cell_type": "code",
   "execution_count": 14,
   "metadata": {},
   "outputs": [
    {
     "name": "stdout",
     "output_type": "stream",
     "text": [
      "DataFrame with NaN:\n",
      "    A    B  C\n",
      "0  1  4.0  7\n",
      "1  2  NaN  8\n",
      "2  3  6.0  9\n",
      "3  4  6.0  9\n",
      "DataFrame after dropping NaN:\n",
      "    A    B  C\n",
      "0  1  4.0  7\n",
      "2  3  6.0  9\n",
      "3  4  6.0  9\n",
      "DataFrame after filling NaN with 0:\n",
      "    A    B  C\n",
      "0  1  4.0  7\n",
      "1  2  0.0  8\n",
      "2  3  6.0  9\n",
      "3  4  6.0  9\n"
     ]
    }
   ],
   "source": [
    "\n",
    "# Handling Missing Data\n",
    "df_with_nan = df.copy()\n",
    "df_with_nan.loc[1, 'B'] = np.nan\n",
    "print(\"DataFrame with NaN:\\n\", df_with_nan)\n",
    "print(\"DataFrame after dropping NaN:\\n\", df_with_nan.dropna())\n",
    "print(\"DataFrame after filling NaN with 0:\\n\", df_with_nan.fillna(0))"
   ]
  },
  {
   "cell_type": "code",
   "execution_count": 16,
   "metadata": {},
   "outputs": [
    {
     "name": "stdout",
     "output_type": "stream",
     "text": [
      "Mean of column Age: 29.69911764705882\n",
      "Sum of column Age: 21205.17\n"
     ]
    }
   ],
   "source": [
    "#Task 3: Data Analysis with Pandas\n",
    "# Aggregations\n",
    "print(\"Mean of column Age:\", df_read['Age'].mean())\n",
    "print(\"Sum of column Age:\", df_read['Age'].sum())"
   ]
  },
  {
   "cell_type": "code",
   "execution_count": 17,
   "metadata": {},
   "outputs": [
    {
     "name": "stdout",
     "output_type": "stream",
     "text": [
      "Merged DataFrame:\n",
      "   key  value_x  value_y\n",
      "0   A        1        4\n",
      "1   B        2        5\n"
     ]
    }
   ],
   "source": [
    "# Merging and Joining\n",
    "df1 = pd.DataFrame({'key': ['A', 'B', 'C'], 'value': [1, 2, 3]})\n",
    "df2 = pd.DataFrame({'key': ['A', 'B', 'D'], 'value': [4, 5, 6]})\n",
    "merged_df = pd.merge(df1, df2, on='key', how='inner')\n",
    "print(\"Merged DataFrame:\\n\", merged_df)"
   ]
  },
  {
   "cell_type": "code",
   "execution_count": 18,
   "metadata": {},
   "outputs": [
    {
     "name": "stdout",
     "output_type": "stream",
     "text": [
      "Pivot Table:\n",
      " B    4    5    6\n",
      "A               \n",
      "1  7.0  NaN  NaN\n",
      "2  NaN  8.0  NaN\n",
      "3  NaN  NaN  9.0\n",
      "4  NaN  NaN  9.0\n"
     ]
    }
   ],
   "source": [
    "# Pivot Tables\n",
    "pivot_df = df.pivot_table(values='C', index='A', columns='B', aggfunc='mean')\n",
    "print(\"Pivot Table:\\n\", pivot_df)"
   ]
  },
  {
   "cell_type": "code",
   "execution_count": 19,
   "metadata": {},
   "outputs": [
    {
     "name": "stdout",
     "output_type": "stream",
     "text": [
      "DataFrame with Date Index:\n",
      "             A  B  C\n",
      "date               \n",
      "2020-01-01  1  4  7\n",
      "2020-01-02  2  5  8\n",
      "2020-01-03  3  6  9\n",
      "2020-01-04  4  6  9\n",
      "Resampled DataFrame:\n",
      "               A     B     C\n",
      "date                       \n",
      "2020-01-31  2.5  5.25  8.25\n"
     ]
    }
   ],
   "source": [
    "# Time Series Analysis\n",
    "df['date'] = pd.date_range(start='1/1/2020', periods=len(df), freq='D')\n",
    "df.set_index('date', inplace=True)\n",
    "print(\"DataFrame with Date Index:\\n\", df)\n",
    "resampled_df = df.resample('M').mean()\n",
    "print(\"Resampled DataFrame:\\n\", resampled_df)"
   ]
  },
  {
   "cell_type": "code",
   "execution_count": null,
   "metadata": {},
   "outputs": [],
   "source": []
  }
 ],
 "metadata": {
  "kernelspec": {
   "display_name": "Python 3",
   "language": "python",
   "name": "python3"
  },
  "language_info": {
   "codemirror_mode": {
    "name": "ipython",
    "version": 3
   },
   "file_extension": ".py",
   "mimetype": "text/x-python",
   "name": "python",
   "nbconvert_exporter": "python",
   "pygments_lexer": "ipython3",
   "version": "3.10.8"
  }
 },
 "nbformat": 4,
 "nbformat_minor": 2
}
